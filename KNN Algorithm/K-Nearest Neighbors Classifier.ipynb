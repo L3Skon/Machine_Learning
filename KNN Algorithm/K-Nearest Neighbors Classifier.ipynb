{
 "cells": [
  {
   "cell_type": "markdown",
   "id": "4071a27e",
   "metadata": {},
   "source": [
    "##### Import Required Libraries"
   ]
  },
  {
   "cell_type": "code",
   "execution_count": null,
   "id": "6af85a41",
   "metadata": {},
   "outputs": [],
   "source": [
    "import pandas as pd\n",
    "import numpy as np \n",
    "import seaborn as sns\n",
    "from sklearn.model_selection import train_test_split\n",
    "from sklearn.preprocessing import LabelEncoder\n",
    "import matplotlib.pyplot as plt\n",
    "%matplotlib inline\n",
    "from pandas.plotting import parallel_coordinates\n",
    "from pandas.plotting import andrews_curves\n",
    "from mpl_toolkits.mplot3d import Axes3D\n",
    "from sklearn.neighbors import KNeighborsClassifier\n",
    "from sklearn.metrics import confusion_matrix, accuracy_score\n",
    "from sklearn.model_selection import cross_val_score\n",
    "import scipy as sp\n",
    "from collections import Counter\n",
    "from math import sqrt\n"
   ]
  },
  {
   "cell_type": "markdown",
   "id": "51bf7fe7",
   "metadata": {},
   "source": [
    "##### Load DataSet"
   ]
  },
  {
   "cell_type": "code",
   "execution_count": null,
   "id": "4a07a6ea",
   "metadata": {},
   "outputs": [],
   "source": [
    "df = pd.read_csv('Iris.csv')"
   ]
  },
  {
   "cell_type": "code",
   "execution_count": null,
   "id": "967e593e",
   "metadata": {},
   "outputs": [],
   "source": [
    "df.shape"
   ]
  },
  {
   "cell_type": "code",
   "execution_count": null,
   "id": "0dba7707",
   "metadata": {},
   "outputs": [],
   "source": [
    "df.head(5)"
   ]
  },
  {
   "cell_type": "code",
   "execution_count": null,
   "id": "20c8e6aa",
   "metadata": {
    "scrolled": true
   },
   "outputs": [],
   "source": [
    "df.describe()"
   ]
  },
  {
   "cell_type": "code",
   "execution_count": null,
   "id": "7665ad51",
   "metadata": {},
   "outputs": [],
   "source": [
    "df.groupby('Species').size()"
   ]
  },
  {
   "cell_type": "markdown",
   "id": "32542bdb",
   "metadata": {},
   "source": [
    "##### Dividing feature and labels"
   ]
  },
  {
   "cell_type": "code",
   "execution_count": null,
   "id": "11bbf403",
   "metadata": {},
   "outputs": [],
   "source": [
    "feature_columns=['SepalWidthCm', 'PetalLengthCm','PetalWidthCm']"
   ]
  },
  {
   "cell_type": "code",
   "execution_count": null,
   "id": "83813b8c",
   "metadata": {},
   "outputs": [],
   "source": [
    "X = df[feature_columns].values\n",
    "y = df['Species'].values"
   ]
  },
  {
   "cell_type": "markdown",
   "id": "fc52e594",
   "metadata": {},
   "source": [
    "##### Label Encoding"
   ]
  },
  {
   "cell_type": "code",
   "execution_count": null,
   "id": "50b19269",
   "metadata": {},
   "outputs": [],
   "source": [
    "lr = LabelEncoder()\n",
    "y = lr.fit_transform(y)"
   ]
  },
  {
   "cell_type": "markdown",
   "id": "b5934334",
   "metadata": {},
   "source": [
    "##### Split Dataset into Training set and Test set"
   ]
  },
  {
   "cell_type": "code",
   "execution_count": null,
   "id": "fe48a878",
   "metadata": {},
   "outputs": [],
   "source": [
    "X_train, X_test, y_train, y_test = train_test_split(X, y, test_size= 0.2, random_state = 0)"
   ]
  },
  {
   "cell_type": "markdown",
   "id": "bcbf31a9",
   "metadata": {},
   "source": [
    "##### Data Visualization"
   ]
  },
  {
   "cell_type": "code",
   "execution_count": null,
   "id": "5f23fe00",
   "metadata": {},
   "outputs": [],
   "source": [
    "plt.figure(figsize=(15, 10))\n",
    "parallel_coordinates(df.drop(\"Id\", axis=1), \"Species\")\n",
    "plt.title('Parallel Coordinates Plot', fontsize=20, fontweight='bold')\n",
    "plt.xlabel('Features', fontsize = 15)\n",
    "plt.ylabel('Features Values', fontsize = 15)\n",
    "plt.legend(loc=1, prop={'size':15}, frameon = True, shadow = True, facecolor=\"white\", edgecolor=\"black\")\n",
    "plt.show()"
   ]
  },
  {
   "cell_type": "code",
   "execution_count": null,
   "id": "39151046",
   "metadata": {
    "scrolled": true
   },
   "outputs": [],
   "source": [
    "plt.figure(figsize=(15,10))\n",
    "andrews_curves(df.drop(\"Id\", axis=1), \"Species\")\n",
    "plt.title('Andrews Curves Plot', fontsize=20, fontweight='bold')\n",
    "plt.legend(loc=1, prop={'size': 15}, frameon=True,shadow=True, facecolor=\"white\", edgecolor=\"black\")\n",
    "plt.show()"
   ]
  },
  {
   "cell_type": "code",
   "execution_count": null,
   "id": "7079040a",
   "metadata": {},
   "outputs": [],
   "source": [
    "plt.figure()\n",
    "sns.pairplot(df.drop(\"Id\", axis=1), hue=\"Species\", height=3, markers=[\"o\", \"s\", \"D\"])\n",
    "plt.show()"
   ]
  },
  {
   "cell_type": "code",
   "execution_count": null,
   "id": "8eff525b",
   "metadata": {},
   "outputs": [],
   "source": [
    "plt.figure()\n",
    "df.drop(\"Id\", axis=1).boxplot(by=\"Species\", figsize=(15, 10))\n",
    "plt.show()"
   ]
  },
  {
   "cell_type": "markdown",
   "id": "84754941",
   "metadata": {},
   "source": [
    "##### KNN for Classification"
   ]
  },
  {
   "cell_type": "code",
   "execution_count": null,
   "id": "54f83361",
   "metadata": {},
   "outputs": [],
   "source": [
    "classifier = KNeighborsClassifier(n_neighbors=3)"
   ]
  },
  {
   "cell_type": "code",
   "execution_count": null,
   "id": "1eaad460",
   "metadata": {},
   "outputs": [],
   "source": [
    "classifier.fit(X_train, y_train)"
   ]
  },
  {
   "cell_type": "code",
   "execution_count": null,
   "id": "816d754f",
   "metadata": {},
   "outputs": [],
   "source": [
    "y_pred = classifier.predict(X_test)"
   ]
  },
  {
   "cell_type": "code",
   "execution_count": null,
   "id": "b0cae815",
   "metadata": {},
   "outputs": [],
   "source": [
    "cm = confusion_matrix(y_test, y_pred)\n",
    "cm"
   ]
  },
  {
   "cell_type": "code",
   "execution_count": null,
   "id": "07f036e1",
   "metadata": {},
   "outputs": [],
   "source": [
    "accuracy = accuracy_score(y_test, y_pred)*100\n",
    "print('Accuracy of our model is equal ' + str(round(accuracy, 2)) + ' %.')"
   ]
  },
  {
   "cell_type": "code",
   "execution_count": null,
   "id": "3ec2a2c9",
   "metadata": {},
   "outputs": [],
   "source": [
    "k_list = list(range(1,50,2))"
   ]
  },
  {
   "cell_type": "code",
   "execution_count": null,
   "id": "142a353a",
   "metadata": {},
   "outputs": [],
   "source": [
    "cv_scores = []"
   ]
  },
  {
   "cell_type": "code",
   "execution_count": null,
   "id": "62d15dc0",
   "metadata": {},
   "outputs": [],
   "source": [
    "for k in k_list:\n",
    "    knn = KNeighborsClassifier(n_neighbors=k)\n",
    "    scores = cross_val_score(knn, X_train, y_train, cv=10, scoring='accuracy')\n",
    "    cv_scores.append(scores.mean())"
   ]
  },
  {
   "cell_type": "code",
   "execution_count": null,
   "id": "aa51145f",
   "metadata": {},
   "outputs": [],
   "source": [
    "MSE = [1 - x for x in cv_scores]\n",
    "\n",
    "plt.figure()\n",
    "plt.figure(figsize=(15,10))\n",
    "plt.title('The optimal number of neighbors', fontsize=20, fontweight='bold')\n",
    "plt.xlabel('Number of Neighbors K', fontsize=15)\n",
    "plt.ylabel('Misclassification Error', fontsize=15)\n",
    "sns.set_style(\"whitegrid\")\n",
    "plt.plot(k_list, MSE)\n",
    "\n",
    "plt.show()"
   ]
  },
  {
   "cell_type": "code",
   "execution_count": null,
   "id": "920867a3",
   "metadata": {},
   "outputs": [],
   "source": [
    "best_k = k_list[MSE.index(min(MSE))]\n",
    "print(\"The optimal number of neighbors is %d.\" % best_k)"
   ]
  },
  {
   "cell_type": "code",
   "execution_count": null,
   "id": "e9c2bbbd",
   "metadata": {},
   "outputs": [],
   "source": [
    "class KNN:\n",
    "    def __init__(self, k=3):\n",
    "        self.k = k\n",
    "\n",
    "    def fit(self, X, y):\n",
    "        self.X_train = X\n",
    "        self.y_train = y\n",
    "\n",
    "    def predict(self, X):\n",
    "        predictions = []\n",
    "        for x in X:\n",
    "            neighbors = self._get_neighbors(x)\n",
    "            most_common_label = self._get_most_common_label(neighbors)\n",
    "            predictions.append(most_common_label)\n",
    "        return predictions\n",
    "\n",
    "    def _get_neighbors(self, x):\n",
    "        distances = []\n",
    "        for i, x_train in enumerate(self.X_train):\n",
    "            dist = self._euclidean_distance(x, x_train)\n",
    "            distances.append((i, dist))\n",
    "        distances.sort(key=lambda x: x[1])\n",
    "        return distances[:self.k]\n",
    "\n",
    "    def _get_most_common_label(self, neighbors):\n",
    "        labels = [self.y_train[i] for i, _ in neighbors]\n",
    "        label_count = Counter(labels)\n",
    "        most_common_label = label_count.most_common(1)[0][0]\n",
    "        return most_common_label\n",
    "\n",
    "    def _euclidean_distance(self, x1, x2):\n",
    "        distance = 0\n",
    "        for i in range(len(x1)):\n",
    "            distance += (x1[i] - x2[i]) ** 2\n",
    "        return sqrt(distance)\n"
   ]
  },
  {
   "cell_type": "code",
   "execution_count": null,
   "id": "c72ccc5e",
   "metadata": {},
   "outputs": [],
   "source": [
    "my_classifier = KNN(k=3)"
   ]
  },
  {
   "cell_type": "code",
   "execution_count": null,
   "id": "567b311e",
   "metadata": {},
   "outputs": [],
   "source": [
    "my_classifier.fit(X_train, y_train)"
   ]
  },
  {
   "cell_type": "code",
   "execution_count": null,
   "id": "e60f7965",
   "metadata": {},
   "outputs": [],
   "source": [
    "my_y_pred = my_classifier.predict(X_test)"
   ]
  },
  {
   "cell_type": "code",
   "execution_count": null,
   "id": "757d3787",
   "metadata": {},
   "outputs": [],
   "source": [
    "accuracy = accuracy_score(y_test, my_y_pred)*100\n",
    "print('Accuracy of our model is equal ' + str(round(accuracy, 2)) + ' %.')"
   ]
  },
  {
   "cell_type": "code",
   "execution_count": null,
   "id": "c1a677e9",
   "metadata": {},
   "outputs": [],
   "source": []
  }
 ],
 "metadata": {
  "kernelspec": {
   "display_name": "Python 3 (ipykernel)",
   "language": "python",
   "name": "python3"
  },
  "language_info": {
   "codemirror_mode": {
    "name": "ipython",
    "version": 3
   },
   "file_extension": ".py",
   "mimetype": "text/x-python",
   "name": "python",
   "nbconvert_exporter": "python",
   "pygments_lexer": "ipython3",
   "version": "3.10.9"
  }
 },
 "nbformat": 4,
 "nbformat_minor": 5
}
