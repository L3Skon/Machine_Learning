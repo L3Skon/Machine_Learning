{
 "cells": [
  {
   "cell_type": "code",
   "execution_count": 1,
   "id": "b23c7c35",
   "metadata": {},
   "outputs": [],
   "source": [
    "import numpy as np "
   ]
  },
  {
   "cell_type": "markdown",
   "id": "00fe3b1e",
   "metadata": {},
   "source": [
    "##### Activation Function "
   ]
  },
  {
   "cell_type": "code",
   "execution_count": 2,
   "id": "61ddc6ca",
   "metadata": {},
   "outputs": [],
   "source": [
    "def sigmoid(w_sum):\n",
    "    return 1/(1+np.exp(-w_sum))"
   ]
  },
  {
   "cell_type": "markdown",
   "id": "3834cd60",
   "metadata": {},
   "source": [
    "##### Get Prediciton"
   ]
  },
  {
   "cell_type": "code",
   "execution_count": 3,
   "id": "bf07ccd0",
   "metadata": {},
   "outputs": [],
   "source": [
    "def predict(features, weights, bias):\n",
    "    return sigmoid(np.dot(features, weights)+ bias)"
   ]
  },
  {
   "cell_type": "markdown",
   "id": "3512470b",
   "metadata": {},
   "source": [
    "##### Load Function"
   ]
  },
  {
   "cell_type": "code",
   "execution_count": 4,
   "id": "eac57ec8",
   "metadata": {},
   "outputs": [],
   "source": [
    "def cross_entropy(target, pred):\n",
    "    return -(target*np.log10(pred)+(1-target)*(np.log10(1-pred)))"
   ]
  },
  {
   "cell_type": "markdown",
   "id": "c9f76acb",
   "metadata": {},
   "source": [
    "##### Update Weights"
   ]
  },
  {
   "cell_type": "code",
   "execution_count": 5,
   "id": "ac49b070",
   "metadata": {},
   "outputs": [],
   "source": [
    "def gradient_descent(x, y, weights, bias, learnrate, pred):\n",
    "    new_weights = []\n",
    "    bias += learnrate*(y-pred)\n",
    "\n",
    "    for w,xi in zip(weights,x):\n",
    "        new_weight = w + learnrate*(y-pred)*xi\n",
    "        new_weights.append(new_weight) \n",
    "    return new_weights, bias"
   ]
  },
  {
   "cell_type": "markdown",
   "id": "10013f3a",
   "metadata": {},
   "source": [
    "##### Data"
   ]
  },
  {
   "cell_type": "code",
   "execution_count": 6,
   "id": "733b71f8",
   "metadata": {},
   "outputs": [],
   "source": [
    "features = np.array(([0.1,0.5,0.2],[0.2,0.3,0.1],[0.7,0.4,0.2],[0.1,0.4,0.3]))\n",
    "targets = np.array([0,1,0,1])\n",
    "\n",
    "epochs = 10\n",
    "learnrate = 0.1\n",
    "\n",
    "errors = []\n",
    "weights = np.array([0.4, 0.2, 0.6])\n",
    "bias = 0.5\n",
    "\n",
    "new_weights = []\n",
    "\n",
    "for e in range(epochs):\n",
    "    for x, y in zip(features, targets):\n",
    "        pred = predict(x, weights, bias)\n",
    "        error = cross_entropy(y, pred)\n",
    "        weights, bias = gradient_descent(x, y, weights, bias, learnrate, pred)"
   ]
  },
  {
   "cell_type": "markdown",
   "id": "fa0b3d6d",
   "metadata": {},
   "source": [
    "##### Printing out the log-loss error on the training set"
   ]
  },
  {
   "cell_type": "code",
   "execution_count": 7,
   "id": "605b364e",
   "metadata": {},
   "outputs": [
    {
     "name": "stdout",
     "output_type": "stream",
     "text": [
      "\n",
      "========== Epoch 9 ==========\n",
      "Average loss:  0.30286560086854775\n"
     ]
    }
   ],
   "source": [
    "out = predict(features, weights, bias)\n",
    "loss = np.mean(cross_entropy(targets, out))\n",
    "errors.append(loss)\n",
    "print(\"\\n========== Epoch\", e,\"==========\")\n",
    "print(\"Average loss: \", loss)"
   ]
  },
  {
   "cell_type": "code",
   "execution_count": null,
   "id": "0711f086",
   "metadata": {},
   "outputs": [],
   "source": []
  }
 ],
 "metadata": {
  "kernelspec": {
   "display_name": "Python 3 (ipykernel)",
   "language": "python",
   "name": "python3"
  },
  "language_info": {
   "codemirror_mode": {
    "name": "ipython",
    "version": 3
   },
   "file_extension": ".py",
   "mimetype": "text/x-python",
   "name": "python",
   "nbconvert_exporter": "python",
   "pygments_lexer": "ipython3",
   "version": "3.10.9"
  }
 },
 "nbformat": 4,
 "nbformat_minor": 5
}
